{
  "nbformat": 4,
  "nbformat_minor": 0,
  "metadata": {
    "colab": {
      "provenance": [],
      "authorship_tag": "ABX9TyPfk7mZ6iSKGo6KSFI0mOJv",
      "include_colab_link": true
    },
    "kernelspec": {
      "name": "python3",
      "display_name": "Python 3"
    },
    "language_info": {
      "name": "python"
    }
  },
  "cells": [
    {
      "cell_type": "markdown",
      "metadata": {
        "id": "view-in-github",
        "colab_type": "text"
      },
      "source": [
        "<a href=\"https://colab.research.google.com/github/SchadenKai/ATM-Machine/blob/main/Untitled1.ipynb\" target=\"_parent\"><img src=\"https://colab.research.google.com/assets/colab-badge.svg\" alt=\"Open In Colab\"/></a>"
      ]
    },
    {
      "cell_type": "code",
      "source": [
        "pip install ucimlrepo"
      ],
      "metadata": {
        "colab": {
          "base_uri": "https://localhost:8080/"
        },
        "id": "rla_kVBXgg3q",
        "outputId": "f284a669-c64a-4482-f727-700ec2f0a580"
      },
      "execution_count": 101,
      "outputs": [
        {
          "output_type": "stream",
          "name": "stdout",
          "text": [
            "Requirement already satisfied: ucimlrepo in /usr/local/lib/python3.10/dist-packages (0.0.6)\n"
          ]
        }
      ]
    },
    {
      "cell_type": "code",
      "execution_count": 102,
      "metadata": {
        "id": "LuZW7qEqeex3"
      },
      "outputs": [],
      "source": [
        "import numpy as np\n",
        "import pandas as pd\n",
        "import matplotlib.pyplot as plt\n",
        "from sklearn.model_selection import train_test_split"
      ]
    },
    {
      "cell_type": "code",
      "source": [
        "from ucimlrepo import fetch_ucirepo\n",
        "\n",
        "# fetch dataset\n",
        "automobile = fetch_ucirepo(id=10)\n",
        "\n",
        "# data (as pandas dataframes)\n",
        "X = automobile.data.features\n",
        "y = automobile.data.targets\n",
        "frames = [X, y]\n",
        "data = pd.concat(frames)\n",
        "for column in data.columns.values:\n",
        "  if data[column].dtype == 'object':\n",
        "    data.drop(column, axis='columns', inplace=True)\n",
        "data = data.dropna()\n",
        "data.columns.values"
      ],
      "metadata": {
        "colab": {
          "base_uri": "https://localhost:8080/"
        },
        "id": "e1hYBJJ-grtY",
        "outputId": "b3aa283c-d577-4b1d-e659-72b02a8d28b4"
      },
      "execution_count": 164,
      "outputs": [
        {
          "output_type": "execute_result",
          "data": {
            "text/plain": [
              "array(['price', 'highway-mpg', 'city-mpg', 'peak-rpm', 'horsepower',\n",
              "       'compression-ratio', 'stroke', 'bore', 'engine-size',\n",
              "       'num-of-cylinders', 'curb-weight', 'height', 'width', 'length',\n",
              "       'wheel-base', 'num-of-doors', 'normalized-losses', 'symboling'],\n",
              "      dtype=object)"
            ]
          },
          "metadata": {},
          "execution_count": 164
        }
      ]
    },
    {
      "cell_type": "code",
      "source": [
        "X = data['symboling']\n",
        "y = data.iloc[:, :17]\n",
        "\n",
        "X.head()"
      ],
      "metadata": {
        "colab": {
          "base_uri": "https://localhost:8080/"
        },
        "id": "UPL44V1swwpi",
        "outputId": "8fc8bede-efa4-4f59-a1e6-0b4a8fe86598"
      },
      "execution_count": 166,
      "outputs": [
        {
          "output_type": "execute_result",
          "data": {
            "text/plain": [
              "Series([], Name: symboling, dtype: float64)"
            ]
          },
          "metadata": {},
          "execution_count": 166
        }
      ]
    },
    {
      "cell_type": "code",
      "source": [
        "data.info()"
      ],
      "metadata": {
        "colab": {
          "base_uri": "https://localhost:8080/"
        },
        "id": "erBNHx5vluDz",
        "outputId": "d0108a75-97c4-4d07-f38b-126cdda04914"
      },
      "execution_count": 140,
      "outputs": [
        {
          "output_type": "stream",
          "name": "stdout",
          "text": [
            "<class 'pandas.core.frame.DataFrame'>\n",
            "Index: 410 entries, 0 to 204\n",
            "Data columns (total 18 columns):\n",
            " #   Column             Non-Null Count  Dtype  \n",
            "---  ------             --------------  -----  \n",
            " 0   price              201 non-null    float64\n",
            " 1   highway-mpg        205 non-null    float64\n",
            " 2   city-mpg           205 non-null    float64\n",
            " 3   peak-rpm           203 non-null    float64\n",
            " 4   horsepower         203 non-null    float64\n",
            " 5   compression-ratio  205 non-null    float64\n",
            " 6   stroke             201 non-null    float64\n",
            " 7   bore               201 non-null    float64\n",
            " 8   engine-size        205 non-null    float64\n",
            " 9   num-of-cylinders   205 non-null    float64\n",
            " 10  curb-weight        205 non-null    float64\n",
            " 11  height             205 non-null    float64\n",
            " 12  width              205 non-null    float64\n",
            " 13  length             205 non-null    float64\n",
            " 14  wheel-base         205 non-null    float64\n",
            " 15  num-of-doors       203 non-null    float64\n",
            " 16  normalized-losses  164 non-null    float64\n",
            " 17  symboling          205 non-null    float64\n",
            "dtypes: float64(18)\n",
            "memory usage: 60.9 KB\n"
          ]
        }
      ]
    },
    {
      "cell_type": "code",
      "source": [
        "data.describe()"
      ],
      "metadata": {
        "colab": {
          "base_uri": "https://localhost:8080/",
          "height": 338
        },
        "id": "MLa6jhwFoG2F",
        "outputId": "3a354214-71a8-4b45-c1ed-a61c43cd498e"
      },
      "execution_count": 141,
      "outputs": [
        {
          "output_type": "execute_result",
          "data": {
            "text/plain": [
              "              price  highway-mpg    city-mpg     peak-rpm  horsepower  \\\n",
              "count    201.000000   205.000000  205.000000   203.000000  203.000000   \n",
              "mean   13207.129353    30.751220   25.219512  5125.369458  104.256158   \n",
              "std     7947.066342     6.886443    6.542142   479.334560   39.714369   \n",
              "min     5118.000000    16.000000   13.000000  4150.000000   48.000000   \n",
              "25%     7775.000000    25.000000   19.000000  4800.000000   70.000000   \n",
              "50%    10295.000000    30.000000   24.000000  5200.000000   95.000000   \n",
              "75%    16500.000000    34.000000   30.000000  5500.000000  116.000000   \n",
              "max    45400.000000    54.000000   49.000000  6600.000000  288.000000   \n",
              "\n",
              "       compression-ratio      stroke        bore  engine-size  \\\n",
              "count         205.000000  201.000000  201.000000   205.000000   \n",
              "mean           10.142537    3.255423    3.329751   126.907317   \n",
              "std             3.972040    0.316717    0.273539    41.642693   \n",
              "min             7.000000    2.070000    2.540000    61.000000   \n",
              "25%             8.600000    3.110000    3.150000    97.000000   \n",
              "50%             9.000000    3.290000    3.310000   120.000000   \n",
              "75%             9.400000    3.410000    3.590000   141.000000   \n",
              "max            23.000000    4.170000    3.940000   326.000000   \n",
              "\n",
              "       num-of-cylinders  curb-weight      height       width      length  \\\n",
              "count        205.000000   205.000000  205.000000  205.000000  205.000000   \n",
              "mean           4.380488  2555.565854   53.724878   65.907805  174.049268   \n",
              "std            1.080854   520.680204    2.443522    2.145204   12.337289   \n",
              "min            2.000000  1488.000000   47.800000   60.300000  141.100000   \n",
              "25%            4.000000  2145.000000   52.000000   64.100000  166.300000   \n",
              "50%            4.000000  2414.000000   54.100000   65.500000  173.200000   \n",
              "75%            4.000000  2935.000000   55.500000   66.900000  183.100000   \n",
              "max           12.000000  4066.000000   59.800000   72.300000  208.100000   \n",
              "\n",
              "       wheel-base  num-of-doors  normalized-losses   symboling  \n",
              "count  205.000000    203.000000         164.000000  205.000000  \n",
              "mean    98.756585      3.123153         122.000000    0.834146  \n",
              "std      6.021776      0.994841          35.442168    1.245307  \n",
              "min     86.600000      2.000000          65.000000   -2.000000  \n",
              "25%     94.500000      2.000000          94.000000    0.000000  \n",
              "50%     97.000000      4.000000         115.000000    1.000000  \n",
              "75%    102.400000      4.000000         150.000000    2.000000  \n",
              "max    120.900000      4.000000         256.000000    3.000000  "
            ],
            "text/html": [
              "\n",
              "  <div id=\"df-e87cd9ea-4a8b-4041-b80d-2507398155eb\" class=\"colab-df-container\">\n",
              "    <div>\n",
              "<style scoped>\n",
              "    .dataframe tbody tr th:only-of-type {\n",
              "        vertical-align: middle;\n",
              "    }\n",
              "\n",
              "    .dataframe tbody tr th {\n",
              "        vertical-align: top;\n",
              "    }\n",
              "\n",
              "    .dataframe thead th {\n",
              "        text-align: right;\n",
              "    }\n",
              "</style>\n",
              "<table border=\"1\" class=\"dataframe\">\n",
              "  <thead>\n",
              "    <tr style=\"text-align: right;\">\n",
              "      <th></th>\n",
              "      <th>price</th>\n",
              "      <th>highway-mpg</th>\n",
              "      <th>city-mpg</th>\n",
              "      <th>peak-rpm</th>\n",
              "      <th>horsepower</th>\n",
              "      <th>compression-ratio</th>\n",
              "      <th>stroke</th>\n",
              "      <th>bore</th>\n",
              "      <th>engine-size</th>\n",
              "      <th>num-of-cylinders</th>\n",
              "      <th>curb-weight</th>\n",
              "      <th>height</th>\n",
              "      <th>width</th>\n",
              "      <th>length</th>\n",
              "      <th>wheel-base</th>\n",
              "      <th>num-of-doors</th>\n",
              "      <th>normalized-losses</th>\n",
              "      <th>symboling</th>\n",
              "    </tr>\n",
              "  </thead>\n",
              "  <tbody>\n",
              "    <tr>\n",
              "      <th>count</th>\n",
              "      <td>201.000000</td>\n",
              "      <td>205.000000</td>\n",
              "      <td>205.000000</td>\n",
              "      <td>203.000000</td>\n",
              "      <td>203.000000</td>\n",
              "      <td>205.000000</td>\n",
              "      <td>201.000000</td>\n",
              "      <td>201.000000</td>\n",
              "      <td>205.000000</td>\n",
              "      <td>205.000000</td>\n",
              "      <td>205.000000</td>\n",
              "      <td>205.000000</td>\n",
              "      <td>205.000000</td>\n",
              "      <td>205.000000</td>\n",
              "      <td>205.000000</td>\n",
              "      <td>203.000000</td>\n",
              "      <td>164.000000</td>\n",
              "      <td>205.000000</td>\n",
              "    </tr>\n",
              "    <tr>\n",
              "      <th>mean</th>\n",
              "      <td>13207.129353</td>\n",
              "      <td>30.751220</td>\n",
              "      <td>25.219512</td>\n",
              "      <td>5125.369458</td>\n",
              "      <td>104.256158</td>\n",
              "      <td>10.142537</td>\n",
              "      <td>3.255423</td>\n",
              "      <td>3.329751</td>\n",
              "      <td>126.907317</td>\n",
              "      <td>4.380488</td>\n",
              "      <td>2555.565854</td>\n",
              "      <td>53.724878</td>\n",
              "      <td>65.907805</td>\n",
              "      <td>174.049268</td>\n",
              "      <td>98.756585</td>\n",
              "      <td>3.123153</td>\n",
              "      <td>122.000000</td>\n",
              "      <td>0.834146</td>\n",
              "    </tr>\n",
              "    <tr>\n",
              "      <th>std</th>\n",
              "      <td>7947.066342</td>\n",
              "      <td>6.886443</td>\n",
              "      <td>6.542142</td>\n",
              "      <td>479.334560</td>\n",
              "      <td>39.714369</td>\n",
              "      <td>3.972040</td>\n",
              "      <td>0.316717</td>\n",
              "      <td>0.273539</td>\n",
              "      <td>41.642693</td>\n",
              "      <td>1.080854</td>\n",
              "      <td>520.680204</td>\n",
              "      <td>2.443522</td>\n",
              "      <td>2.145204</td>\n",
              "      <td>12.337289</td>\n",
              "      <td>6.021776</td>\n",
              "      <td>0.994841</td>\n",
              "      <td>35.442168</td>\n",
              "      <td>1.245307</td>\n",
              "    </tr>\n",
              "    <tr>\n",
              "      <th>min</th>\n",
              "      <td>5118.000000</td>\n",
              "      <td>16.000000</td>\n",
              "      <td>13.000000</td>\n",
              "      <td>4150.000000</td>\n",
              "      <td>48.000000</td>\n",
              "      <td>7.000000</td>\n",
              "      <td>2.070000</td>\n",
              "      <td>2.540000</td>\n",
              "      <td>61.000000</td>\n",
              "      <td>2.000000</td>\n",
              "      <td>1488.000000</td>\n",
              "      <td>47.800000</td>\n",
              "      <td>60.300000</td>\n",
              "      <td>141.100000</td>\n",
              "      <td>86.600000</td>\n",
              "      <td>2.000000</td>\n",
              "      <td>65.000000</td>\n",
              "      <td>-2.000000</td>\n",
              "    </tr>\n",
              "    <tr>\n",
              "      <th>25%</th>\n",
              "      <td>7775.000000</td>\n",
              "      <td>25.000000</td>\n",
              "      <td>19.000000</td>\n",
              "      <td>4800.000000</td>\n",
              "      <td>70.000000</td>\n",
              "      <td>8.600000</td>\n",
              "      <td>3.110000</td>\n",
              "      <td>3.150000</td>\n",
              "      <td>97.000000</td>\n",
              "      <td>4.000000</td>\n",
              "      <td>2145.000000</td>\n",
              "      <td>52.000000</td>\n",
              "      <td>64.100000</td>\n",
              "      <td>166.300000</td>\n",
              "      <td>94.500000</td>\n",
              "      <td>2.000000</td>\n",
              "      <td>94.000000</td>\n",
              "      <td>0.000000</td>\n",
              "    </tr>\n",
              "    <tr>\n",
              "      <th>50%</th>\n",
              "      <td>10295.000000</td>\n",
              "      <td>30.000000</td>\n",
              "      <td>24.000000</td>\n",
              "      <td>5200.000000</td>\n",
              "      <td>95.000000</td>\n",
              "      <td>9.000000</td>\n",
              "      <td>3.290000</td>\n",
              "      <td>3.310000</td>\n",
              "      <td>120.000000</td>\n",
              "      <td>4.000000</td>\n",
              "      <td>2414.000000</td>\n",
              "      <td>54.100000</td>\n",
              "      <td>65.500000</td>\n",
              "      <td>173.200000</td>\n",
              "      <td>97.000000</td>\n",
              "      <td>4.000000</td>\n",
              "      <td>115.000000</td>\n",
              "      <td>1.000000</td>\n",
              "    </tr>\n",
              "    <tr>\n",
              "      <th>75%</th>\n",
              "      <td>16500.000000</td>\n",
              "      <td>34.000000</td>\n",
              "      <td>30.000000</td>\n",
              "      <td>5500.000000</td>\n",
              "      <td>116.000000</td>\n",
              "      <td>9.400000</td>\n",
              "      <td>3.410000</td>\n",
              "      <td>3.590000</td>\n",
              "      <td>141.000000</td>\n",
              "      <td>4.000000</td>\n",
              "      <td>2935.000000</td>\n",
              "      <td>55.500000</td>\n",
              "      <td>66.900000</td>\n",
              "      <td>183.100000</td>\n",
              "      <td>102.400000</td>\n",
              "      <td>4.000000</td>\n",
              "      <td>150.000000</td>\n",
              "      <td>2.000000</td>\n",
              "    </tr>\n",
              "    <tr>\n",
              "      <th>max</th>\n",
              "      <td>45400.000000</td>\n",
              "      <td>54.000000</td>\n",
              "      <td>49.000000</td>\n",
              "      <td>6600.000000</td>\n",
              "      <td>288.000000</td>\n",
              "      <td>23.000000</td>\n",
              "      <td>4.170000</td>\n",
              "      <td>3.940000</td>\n",
              "      <td>326.000000</td>\n",
              "      <td>12.000000</td>\n",
              "      <td>4066.000000</td>\n",
              "      <td>59.800000</td>\n",
              "      <td>72.300000</td>\n",
              "      <td>208.100000</td>\n",
              "      <td>120.900000</td>\n",
              "      <td>4.000000</td>\n",
              "      <td>256.000000</td>\n",
              "      <td>3.000000</td>\n",
              "    </tr>\n",
              "  </tbody>\n",
              "</table>\n",
              "</div>\n",
              "    <div class=\"colab-df-buttons\">\n",
              "\n",
              "  <div class=\"colab-df-container\">\n",
              "    <button class=\"colab-df-convert\" onclick=\"convertToInteractive('df-e87cd9ea-4a8b-4041-b80d-2507398155eb')\"\n",
              "            title=\"Convert this dataframe to an interactive table.\"\n",
              "            style=\"display:none;\">\n",
              "\n",
              "  <svg xmlns=\"http://www.w3.org/2000/svg\" height=\"24px\" viewBox=\"0 -960 960 960\">\n",
              "    <path d=\"M120-120v-720h720v720H120Zm60-500h600v-160H180v160Zm220 220h160v-160H400v160Zm0 220h160v-160H400v160ZM180-400h160v-160H180v160Zm440 0h160v-160H620v160ZM180-180h160v-160H180v160Zm440 0h160v-160H620v160Z\"/>\n",
              "  </svg>\n",
              "    </button>\n",
              "\n",
              "  <style>\n",
              "    .colab-df-container {\n",
              "      display:flex;\n",
              "      gap: 12px;\n",
              "    }\n",
              "\n",
              "    .colab-df-convert {\n",
              "      background-color: #E8F0FE;\n",
              "      border: none;\n",
              "      border-radius: 50%;\n",
              "      cursor: pointer;\n",
              "      display: none;\n",
              "      fill: #1967D2;\n",
              "      height: 32px;\n",
              "      padding: 0 0 0 0;\n",
              "      width: 32px;\n",
              "    }\n",
              "\n",
              "    .colab-df-convert:hover {\n",
              "      background-color: #E2EBFA;\n",
              "      box-shadow: 0px 1px 2px rgba(60, 64, 67, 0.3), 0px 1px 3px 1px rgba(60, 64, 67, 0.15);\n",
              "      fill: #174EA6;\n",
              "    }\n",
              "\n",
              "    .colab-df-buttons div {\n",
              "      margin-bottom: 4px;\n",
              "    }\n",
              "\n",
              "    [theme=dark] .colab-df-convert {\n",
              "      background-color: #3B4455;\n",
              "      fill: #D2E3FC;\n",
              "    }\n",
              "\n",
              "    [theme=dark] .colab-df-convert:hover {\n",
              "      background-color: #434B5C;\n",
              "      box-shadow: 0px 1px 3px 1px rgba(0, 0, 0, 0.15);\n",
              "      filter: drop-shadow(0px 1px 2px rgba(0, 0, 0, 0.3));\n",
              "      fill: #FFFFFF;\n",
              "    }\n",
              "  </style>\n",
              "\n",
              "    <script>\n",
              "      const buttonEl =\n",
              "        document.querySelector('#df-e87cd9ea-4a8b-4041-b80d-2507398155eb button.colab-df-convert');\n",
              "      buttonEl.style.display =\n",
              "        google.colab.kernel.accessAllowed ? 'block' : 'none';\n",
              "\n",
              "      async function convertToInteractive(key) {\n",
              "        const element = document.querySelector('#df-e87cd9ea-4a8b-4041-b80d-2507398155eb');\n",
              "        const dataTable =\n",
              "          await google.colab.kernel.invokeFunction('convertToInteractive',\n",
              "                                                    [key], {});\n",
              "        if (!dataTable) return;\n",
              "\n",
              "        const docLinkHtml = 'Like what you see? Visit the ' +\n",
              "          '<a target=\"_blank\" href=https://colab.research.google.com/notebooks/data_table.ipynb>data table notebook</a>'\n",
              "          + ' to learn more about interactive tables.';\n",
              "        element.innerHTML = '';\n",
              "        dataTable['output_type'] = 'display_data';\n",
              "        await google.colab.output.renderOutput(dataTable, element);\n",
              "        const docLink = document.createElement('div');\n",
              "        docLink.innerHTML = docLinkHtml;\n",
              "        element.appendChild(docLink);\n",
              "      }\n",
              "    </script>\n",
              "  </div>\n",
              "\n",
              "\n",
              "<div id=\"df-58830551-fd55-49eb-95f8-45ce0c87ebba\">\n",
              "  <button class=\"colab-df-quickchart\" onclick=\"quickchart('df-58830551-fd55-49eb-95f8-45ce0c87ebba')\"\n",
              "            title=\"Suggest charts\"\n",
              "            style=\"display:none;\">\n",
              "\n",
              "<svg xmlns=\"http://www.w3.org/2000/svg\" height=\"24px\"viewBox=\"0 0 24 24\"\n",
              "     width=\"24px\">\n",
              "    <g>\n",
              "        <path d=\"M19 3H5c-1.1 0-2 .9-2 2v14c0 1.1.9 2 2 2h14c1.1 0 2-.9 2-2V5c0-1.1-.9-2-2-2zM9 17H7v-7h2v7zm4 0h-2V7h2v10zm4 0h-2v-4h2v4z\"/>\n",
              "    </g>\n",
              "</svg>\n",
              "  </button>\n",
              "\n",
              "<style>\n",
              "  .colab-df-quickchart {\n",
              "      --bg-color: #E8F0FE;\n",
              "      --fill-color: #1967D2;\n",
              "      --hover-bg-color: #E2EBFA;\n",
              "      --hover-fill-color: #174EA6;\n",
              "      --disabled-fill-color: #AAA;\n",
              "      --disabled-bg-color: #DDD;\n",
              "  }\n",
              "\n",
              "  [theme=dark] .colab-df-quickchart {\n",
              "      --bg-color: #3B4455;\n",
              "      --fill-color: #D2E3FC;\n",
              "      --hover-bg-color: #434B5C;\n",
              "      --hover-fill-color: #FFFFFF;\n",
              "      --disabled-bg-color: #3B4455;\n",
              "      --disabled-fill-color: #666;\n",
              "  }\n",
              "\n",
              "  .colab-df-quickchart {\n",
              "    background-color: var(--bg-color);\n",
              "    border: none;\n",
              "    border-radius: 50%;\n",
              "    cursor: pointer;\n",
              "    display: none;\n",
              "    fill: var(--fill-color);\n",
              "    height: 32px;\n",
              "    padding: 0;\n",
              "    width: 32px;\n",
              "  }\n",
              "\n",
              "  .colab-df-quickchart:hover {\n",
              "    background-color: var(--hover-bg-color);\n",
              "    box-shadow: 0 1px 2px rgba(60, 64, 67, 0.3), 0 1px 3px 1px rgba(60, 64, 67, 0.15);\n",
              "    fill: var(--button-hover-fill-color);\n",
              "  }\n",
              "\n",
              "  .colab-df-quickchart-complete:disabled,\n",
              "  .colab-df-quickchart-complete:disabled:hover {\n",
              "    background-color: var(--disabled-bg-color);\n",
              "    fill: var(--disabled-fill-color);\n",
              "    box-shadow: none;\n",
              "  }\n",
              "\n",
              "  .colab-df-spinner {\n",
              "    border: 2px solid var(--fill-color);\n",
              "    border-color: transparent;\n",
              "    border-bottom-color: var(--fill-color);\n",
              "    animation:\n",
              "      spin 1s steps(1) infinite;\n",
              "  }\n",
              "\n",
              "  @keyframes spin {\n",
              "    0% {\n",
              "      border-color: transparent;\n",
              "      border-bottom-color: var(--fill-color);\n",
              "      border-left-color: var(--fill-color);\n",
              "    }\n",
              "    20% {\n",
              "      border-color: transparent;\n",
              "      border-left-color: var(--fill-color);\n",
              "      border-top-color: var(--fill-color);\n",
              "    }\n",
              "    30% {\n",
              "      border-color: transparent;\n",
              "      border-left-color: var(--fill-color);\n",
              "      border-top-color: var(--fill-color);\n",
              "      border-right-color: var(--fill-color);\n",
              "    }\n",
              "    40% {\n",
              "      border-color: transparent;\n",
              "      border-right-color: var(--fill-color);\n",
              "      border-top-color: var(--fill-color);\n",
              "    }\n",
              "    60% {\n",
              "      border-color: transparent;\n",
              "      border-right-color: var(--fill-color);\n",
              "    }\n",
              "    80% {\n",
              "      border-color: transparent;\n",
              "      border-right-color: var(--fill-color);\n",
              "      border-bottom-color: var(--fill-color);\n",
              "    }\n",
              "    90% {\n",
              "      border-color: transparent;\n",
              "      border-bottom-color: var(--fill-color);\n",
              "    }\n",
              "  }\n",
              "</style>\n",
              "\n",
              "  <script>\n",
              "    async function quickchart(key) {\n",
              "      const quickchartButtonEl =\n",
              "        document.querySelector('#' + key + ' button');\n",
              "      quickchartButtonEl.disabled = true;  // To prevent multiple clicks.\n",
              "      quickchartButtonEl.classList.add('colab-df-spinner');\n",
              "      try {\n",
              "        const charts = await google.colab.kernel.invokeFunction(\n",
              "            'suggestCharts', [key], {});\n",
              "      } catch (error) {\n",
              "        console.error('Error during call to suggestCharts:', error);\n",
              "      }\n",
              "      quickchartButtonEl.classList.remove('colab-df-spinner');\n",
              "      quickchartButtonEl.classList.add('colab-df-quickchart-complete');\n",
              "    }\n",
              "    (() => {\n",
              "      let quickchartButtonEl =\n",
              "        document.querySelector('#df-58830551-fd55-49eb-95f8-45ce0c87ebba button');\n",
              "      quickchartButtonEl.style.display =\n",
              "        google.colab.kernel.accessAllowed ? 'block' : 'none';\n",
              "    })();\n",
              "  </script>\n",
              "</div>\n",
              "    </div>\n",
              "  </div>\n"
            ],
            "application/vnd.google.colaboratory.intrinsic+json": {
              "type": "dataframe",
              "summary": "{\n  \"name\": \"data\",\n  \"rows\": 8,\n  \"fields\": [\n    {\n      \"column\": \"price\",\n      \"properties\": {\n        \"dtype\": \"number\",\n        \"std\": 13873.905956718687,\n        \"min\": 201.0,\n        \"max\": 45400.0,\n        \"num_unique_values\": 8,\n        \"samples\": [\n          13207.129353233831,\n          10295.0,\n          201.0\n        ],\n        \"semantic_type\": \"\",\n        \"description\": \"\"\n      }\n    },\n    {\n      \"column\": \"highway-mpg\",\n      \"properties\": {\n        \"dtype\": \"number\",\n        \"std\": 64.0390049599267,\n        \"min\": 6.886443130941824,\n        \"max\": 205.0,\n        \"num_unique_values\": 8,\n        \"samples\": [\n          30.75121951219512,\n          30.0,\n          205.0\n        ],\n        \"semantic_type\": \"\",\n        \"description\": \"\"\n      }\n    },\n    {\n      \"column\": \"city-mpg\",\n      \"properties\": {\n        \"dtype\": \"number\",\n        \"std\": 65.28506994468987,\n        \"min\": 6.542141653001622,\n        \"max\": 205.0,\n        \"num_unique_values\": 8,\n        \"samples\": [\n          25.21951219512195,\n          24.0,\n          205.0\n        ],\n        \"semantic_type\": \"\",\n        \"description\": \"\"\n      }\n    },\n    {\n      \"column\": \"peak-rpm\",\n      \"properties\": {\n        \"dtype\": \"number\",\n        \"std\": 2366.1552400363316,\n        \"min\": 203.0,\n        \"max\": 6600.0,\n        \"num_unique_values\": 8,\n        \"samples\": [\n          5125.369458128079,\n          5200.0,\n          203.0\n        ],\n        \"semantic_type\": \"\",\n        \"description\": \"\"\n      }\n    },\n    {\n      \"column\": \"horsepower\",\n      \"properties\": {\n        \"dtype\": \"number\",\n        \"std\": 84.62495454034945,\n        \"min\": 39.71436878679358,\n        \"max\": 288.0,\n        \"num_unique_values\": 8,\n        \"samples\": [\n          104.25615763546799,\n          95.0,\n          203.0\n        ],\n        \"semantic_type\": \"\",\n        \"description\": \"\"\n      }\n    },\n    {\n      \"column\": \"compression-ratio\",\n      \"properties\": {\n        \"dtype\": \"number\",\n        \"std\": 69.1117735526214,\n        \"min\": 3.9720403218632976,\n        \"max\": 205.0,\n        \"num_unique_values\": 8,\n        \"samples\": [\n          10.142536585365855,\n          9.0,\n          205.0\n        ],\n        \"semantic_type\": \"\",\n        \"description\": \"\"\n      }\n    },\n    {\n      \"column\": \"stroke\",\n      \"properties\": {\n        \"dtype\": \"number\",\n        \"std\": 70.08283882779804,\n        \"min\": 0.31671745337703106,\n        \"max\": 201.0,\n        \"num_unique_values\": 8,\n        \"samples\": [\n          3.25542288557214,\n          3.29,\n          201.0\n        ],\n        \"semantic_type\": \"\",\n        \"description\": \"\"\n      }\n    },\n    {\n      \"column\": \"bore\",\n      \"properties\": {\n        \"dtype\": \"number\",\n        \"std\": 70.05652052333333,\n        \"min\": 0.273538731829599,\n        \"max\": 201.0,\n        \"num_unique_values\": 8,\n        \"samples\": [\n          3.3297512437810943,\n          3.31,\n          201.0\n        ],\n        \"semantic_type\": \"\",\n        \"description\": \"\"\n      }\n    },\n    {\n      \"column\": \"engine-size\",\n      \"properties\": {\n        \"dtype\": \"number\",\n        \"std\": 90.36221973782494,\n        \"min\": 41.64269343817984,\n        \"max\": 326.0,\n        \"num_unique_values\": 8,\n        \"samples\": [\n          126.90731707317073,\n          120.0,\n          205.0\n        ],\n        \"semantic_type\": \"\",\n        \"description\": \"\"\n      }\n    },\n    {\n      \"column\": \"num-of-cylinders\",\n      \"properties\": {\n        \"dtype\": \"number\",\n        \"std\": 70.96489188445307,\n        \"min\": 1.0808537638918492,\n        \"max\": 205.0,\n        \"num_unique_values\": 6,\n        \"samples\": [\n          205.0,\n          4.380487804878049,\n          12.0\n        ],\n        \"semantic_type\": \"\",\n        \"description\": \"\"\n      }\n    },\n    {\n      \"column\": \"curb-weight\",\n      \"properties\": {\n        \"dtype\": \"number\",\n        \"std\": 1270.6950351955225,\n        \"min\": 205.0,\n        \"max\": 4066.0,\n        \"num_unique_values\": 8,\n        \"samples\": [\n          2555.5658536585365,\n          2414.0,\n          205.0\n        ],\n        \"semantic_type\": \"\",\n        \"description\": \"\"\n      }\n    },\n    {\n      \"column\": \"height\",\n      \"properties\": {\n        \"dtype\": \"number\",\n        \"std\": 58.95269696202711,\n        \"min\": 2.4435219699049036,\n        \"max\": 205.0,\n        \"num_unique_values\": 8,\n        \"samples\": [\n          53.72487804878049,\n          54.1,\n          205.0\n        ],\n        \"semantic_type\": \"\",\n        \"description\": \"\"\n      }\n    },\n    {\n      \"column\": \"width\",\n      \"properties\": {\n        \"dtype\": \"number\",\n        \"std\": 57.05631291349402,\n        \"min\": 2.145203852687183,\n        \"max\": 205.0,\n        \"num_unique_values\": 8,\n        \"samples\": [\n          65.90780487804878,\n          65.5,\n          205.0\n        ],\n        \"semantic_type\": \"\",\n        \"description\": \"\"\n      }\n    },\n    {\n      \"column\": \"length\",\n      \"properties\": {\n        \"dtype\": \"number\",\n        \"std\": 62.57530527897739,\n        \"min\": 12.337288526555179,\n        \"max\": 208.1,\n        \"num_unique_values\": 8,\n        \"samples\": [\n          174.04926829268288,\n          173.2,\n          205.0\n        ],\n        \"semantic_type\": \"\",\n        \"description\": \"\"\n      }\n    },\n    {\n      \"column\": \"wheel-base\",\n      \"properties\": {\n        \"dtype\": \"number\",\n        \"std\": 54.121837757672914,\n        \"min\": 6.021775685025571,\n        \"max\": 205.0,\n        \"num_unique_values\": 8,\n        \"samples\": [\n          98.75658536585365,\n          97.0,\n          205.0\n        ],\n        \"semantic_type\": \"\",\n        \"description\": \"\"\n      }\n    },\n    {\n      \"column\": \"num-of-doors\",\n      \"properties\": {\n        \"dtype\": \"number\",\n        \"std\": 70.76423521225938,\n        \"min\": 0.9948411044478704,\n        \"max\": 203.0,\n        \"num_unique_values\": 5,\n        \"samples\": [\n          3.123152709359606,\n          4.0,\n          0.9948411044478704\n        ],\n        \"semantic_type\": \"\",\n        \"description\": \"\"\n      }\n    },\n    {\n      \"column\": \"normalized-losses\",\n      \"properties\": {\n        \"dtype\": \"number\",\n        \"std\": 67.60953586136797,\n        \"min\": 35.442167530553256,\n        \"max\": 256.0,\n        \"num_unique_values\": 8,\n        \"samples\": [\n          122.0,\n          115.0,\n          164.0\n        ],\n        \"semantic_type\": \"\",\n        \"description\": \"\"\n      }\n    },\n    {\n      \"column\": \"symboling\",\n      \"properties\": {\n        \"dtype\": \"number\",\n        \"std\": 72.18619738012798,\n        \"min\": -2.0,\n        \"max\": 205.0,\n        \"num_unique_values\": 8,\n        \"samples\": [\n          0.8341463414634146,\n          1.0,\n          205.0\n        ],\n        \"semantic_type\": \"\",\n        \"description\": \"\"\n      }\n    }\n  ]\n}"
            }
          },
          "metadata": {},
          "execution_count": 141
        }
      ]
    },
    {
      "cell_type": "code",
      "source": [
        "data['symboling'].plot(kind='density')"
      ],
      "metadata": {
        "colab": {
          "base_uri": "https://localhost:8080/",
          "height": 447
        },
        "id": "Pg6Dh1risWUe",
        "outputId": "09f3d42a-517c-4876-d168-43cb72552d80"
      },
      "execution_count": 143,
      "outputs": [
        {
          "output_type": "execute_result",
          "data": {
            "text/plain": [
              "<Axes: ylabel='Density'>"
            ]
          },
          "metadata": {},
          "execution_count": 143
        },
        {
          "output_type": "display_data",
          "data": {
            "text/plain": [
              "<Figure size 640x480 with 1 Axes>"
            ],
            "image/png": "[encoded data removed]"
          },
          "metadata": {}
        }
      ]
    },
    {
      "cell_type": "code",
      "source": [
        "x_train, x_test, y_train, y_test = train_test_split(X, y, test_size=0.2, random_state=100)"
      ],
      "metadata": {
        "id": "AhC-MB2FhcRj"
      },
      "execution_count": 144,
      "outputs": []
    },
    {
      "cell_type": "code",
      "source": [
        "from sklearn.pipeline import Pipeline\n",
        "from sklearn.preprocessing import StandardScaler\n",
        "from sklearn.linear_model import LinearRegression, Ridge, RidgeCV, SGDRegressor\n",
        "from sklearn import svm\n",
        "\n",
        "pipe = Pipeline([\n",
        "    ('lr', LinearRegression())\n",
        "])"
      ],
      "metadata": {
        "id": "DQN_VMoqmeR2"
      },
      "execution_count": 145,
      "outputs": []
    },
    {
      "cell_type": "code",
      "source": [
        "# Models\n",
        "\n",
        "lr = LinearRegression()\n",
        "r_lr = Ridge()\n",
        "rcv_lr = RidgeCV()\n",
        "sgd_lr = SGDRegressor()"
      ],
      "metadata": {
        "id": "UTSFPHHmpVA4"
      },
      "execution_count": 146,
      "outputs": []
    },
    {
      "cell_type": "code",
      "source": [
        "x_train.info()\n",
        "x.tra"
      ],
      "metadata": {
        "colab": {
          "base_uri": "https://localhost:8080/"
        },
        "id": "VTAvaOH4xeKI",
        "outputId": "2d97f9cd-731f-4fdb-86ab-165a221706d2"
      },
      "execution_count": 152,
      "outputs": [
        {
          "output_type": "stream",
          "name": "stdout",
          "text": [
            "<class 'pandas.core.series.Series'>\n",
            "Index: 328 entries, 190 to 8\n",
            "Series name: symboling\n",
            "Non-Null Count  Dtype  \n",
            "--------------  -----  \n",
            "165 non-null    float64\n",
            "dtypes: float64(1)\n",
            "memory usage: 5.1 KB\n"
          ]
        }
      ]
    },
    {
      "cell_type": "code",
      "source": [
        "model = lr.fit(x_train, y_train)\n",
        "print('Linear regression: ', model.score(x_test, y_test))\n",
        "model = r_lr.fit(x_train, y_train)\n",
        "print('Ridge: ', model.score(x_test, y_test))\n",
        "model = rcv_lr.fit(x_train, y_train)\n",
        "print('Ridge CV: ', model.score(x_test, y_test))\n",
        "model = sgd_lr.fit(x_train, y_train)\n",
        "print('SGD Regressor: ', model.score(x_test, y_test))\n",
        "\n",
        "\n",
        "# pipe.fit(X_train, y_train).score(X_test, y_test)"
      ],
      "metadata": {
        "colab": {
          "base_uri": "https://localhost:8080/",
          "height": 755
        },
        "id": "MjMbIGjgjKZG",
        "outputId": "51f1c444-0225-4eeb-c027-fe0aee34c1ba"
      },
      "execution_count": 147,
      "outputs": [
        {
          "output_type": "error",
          "ename": "ValueError",
          "evalue": "Expected 2D array, got 1D array instead:\narray=[ 3.  0. -1. nan  1. nan nan nan nan  1. nan  0. nan nan nan nan  0.  1.\n  0.  2.  0.  2.  0. nan nan nan  0. -1. nan  0. nan nan nan nan  3. nan\n  0. nan  1. nan  2. nan nan  1. nan  2.  0. nan  0. -1. nan nan  3.  1.\n  0. nan nan nan nan nan nan  1. nan nan  1. nan  1. nan nan  2.  0.  1.\n nan nan  1. nan nan nan  0.  0. nan  1. nan  1. nan nan -1. -1. nan nan\n  1. nan nan  0.  0. nan nan -2. nan nan nan nan  3. nan  1.  3. nan  2.\n nan  2.  0. nan nan  2. nan  2.  0. nan  0.  2.  1.  3. nan  3. nan nan\n nan nan nan  3. -1. nan  0.  2. nan -1.  0.  2. nan  2.  1.  0.  2. nan\n nan  1. nan nan  1. -1. nan nan  0. nan  2. nan nan nan nan  3.  1.  1.\n  1. nan  0. nan  3. -1.  0. nan  1.  0.  2.  0.  0. nan  1. nan  0.  1.\n  2.  2. nan nan nan  0.  2. nan -1. nan nan nan  1. nan  0. nan -1. nan\n nan nan nan  1. nan -1.  2.  0. nan nan nan nan  1. nan -2.  0. -2.  3.\n  0. nan  1. nan nan nan nan  3.  3. nan  0.  0. nan  3.  1.  1.  0.  1.\n nan  0.  3. nan nan  1. nan nan nan  0. nan  0. nan  1.  3. nan  1. nan\n nan  3.  2.  1.  1.  3. nan nan nan  0. nan  1.  0. nan -1. nan nan nan\n nan nan -1. nan nan  0. nan  1. nan  2.  1.  0.  2. nan nan nan nan  2.\n  2. nan  0.  0. nan nan nan -1. nan nan nan  1.  0. nan  0. nan nan nan\n nan nan  0.  0.  1. nan -1.  0.  1. nan  1. nan nan  0.  0.  3. nan  2.\n  0.  1.  1. nan].\nReshape your data either using array.reshape(-1, 1) if your data has a single feature or array.reshape(1, -1) if it contains a single sample.",
          "traceback": [
            "\u001b[0;31m---------------------------------------------------------------------------\u001b[0m",
            "\u001b[0;31mValueError\u001b[0m                                Traceback (most recent call last)",
            "\u001b[0;32m<ipython-input-147-abb40b0d9536>\u001b[0m in \u001b[0;36m<cell line: 1>\u001b[0;34m()\u001b[0m\n\u001b[0;32m----> 1\u001b[0;31m \u001b[0mmodel\u001b[0m \u001b[0;34m=\u001b[0m \u001b[0mlr\u001b[0m\u001b[0;34m.\u001b[0m\u001b[0mfit\u001b[0m\u001b[0;34m(\u001b[0m\u001b[0mx_train\u001b[0m\u001b[0;34m,\u001b[0m \u001b[0my_train\u001b[0m\u001b[0;34m)\u001b[0m\u001b[0;34m\u001b[0m\u001b[0;34m\u001b[0m\u001b[0m\n\u001b[0m\u001b[1;32m      2\u001b[0m \u001b[0mprint\u001b[0m\u001b[0;34m(\u001b[0m\u001b[0;34m'Linear regression: '\u001b[0m\u001b[0;34m,\u001b[0m \u001b[0mmodel\u001b[0m\u001b[0;34m.\u001b[0m\u001b[0mscore\u001b[0m\u001b[0;34m(\u001b[0m\u001b[0mx_test\u001b[0m\u001b[0;34m,\u001b[0m \u001b[0my_test\u001b[0m\u001b[0;34m)\u001b[0m\u001b[0;34m)\u001b[0m\u001b[0;34m\u001b[0m\u001b[0;34m\u001b[0m\u001b[0m\n\u001b[1;32m      3\u001b[0m \u001b[0mmodel\u001b[0m \u001b[0;34m=\u001b[0m \u001b[0mr_lr\u001b[0m\u001b[0;34m.\u001b[0m\u001b[0mfit\u001b[0m\u001b[0;34m(\u001b[0m\u001b[0mx_train\u001b[0m\u001b[0;34m,\u001b[0m \u001b[0my_train\u001b[0m\u001b[0;34m)\u001b[0m\u001b[0;34m\u001b[0m\u001b[0;34m\u001b[0m\u001b[0m\n\u001b[1;32m      4\u001b[0m \u001b[0mprint\u001b[0m\u001b[0;34m(\u001b[0m\u001b[0;34m'Ridge: '\u001b[0m\u001b[0;34m,\u001b[0m \u001b[0mmodel\u001b[0m\u001b[0;34m.\u001b[0m\u001b[0mscore\u001b[0m\u001b[0;34m(\u001b[0m\u001b[0mx_test\u001b[0m\u001b[0;34m,\u001b[0m \u001b[0my_test\u001b[0m\u001b[0;34m)\u001b[0m\u001b[0;34m)\u001b[0m\u001b[0;34m\u001b[0m\u001b[0;34m\u001b[0m\u001b[0m\n\u001b[1;32m      5\u001b[0m \u001b[0mmodel\u001b[0m \u001b[0;34m=\u001b[0m \u001b[0mrcv_lr\u001b[0m\u001b[0;34m.\u001b[0m\u001b[0mfit\u001b[0m\u001b[0;34m(\u001b[0m\u001b[0mx_train\u001b[0m\u001b[0;34m,\u001b[0m \u001b[0my_train\u001b[0m\u001b[0;34m)\u001b[0m\u001b[0;34m\u001b[0m\u001b[0;34m\u001b[0m\u001b[0m\n",
            "\u001b[0;32m/usr/local/lib/python3.10/dist-packages/sklearn/linear_model/_base.py\u001b[0m in \u001b[0;36mfit\u001b[0;34m(self, X, y, sample_weight)\u001b[0m\n\u001b[1;32m    646\u001b[0m         \u001b[0maccept_sparse\u001b[0m \u001b[0;34m=\u001b[0m \u001b[0;32mFalse\u001b[0m \u001b[0;32mif\u001b[0m \u001b[0mself\u001b[0m\u001b[0;34m.\u001b[0m\u001b[0mpositive\u001b[0m \u001b[0;32melse\u001b[0m \u001b[0;34m[\u001b[0m\u001b[0;34m\"csr\"\u001b[0m\u001b[0;34m,\u001b[0m \u001b[0;34m\"csc\"\u001b[0m\u001b[0;34m,\u001b[0m \u001b[0;34m\"coo\"\u001b[0m\u001b[0;34m]\u001b[0m\u001b[0;34m\u001b[0m\u001b[0;34m\u001b[0m\u001b[0m\n\u001b[1;32m    647\u001b[0m \u001b[0;34m\u001b[0m\u001b[0m\n\u001b[0;32m--> 648\u001b[0;31m         X, y = self._validate_data(\n\u001b[0m\u001b[1;32m    649\u001b[0m             \u001b[0mX\u001b[0m\u001b[0;34m,\u001b[0m \u001b[0my\u001b[0m\u001b[0;34m,\u001b[0m \u001b[0maccept_sparse\u001b[0m\u001b[0;34m=\u001b[0m\u001b[0maccept_sparse\u001b[0m\u001b[0;34m,\u001b[0m \u001b[0my_numeric\u001b[0m\u001b[0;34m=\u001b[0m\u001b[0;32mTrue\u001b[0m\u001b[0;34m,\u001b[0m \u001b[0mmulti_output\u001b[0m\u001b[0;34m=\u001b[0m\u001b[0;32mTrue\u001b[0m\u001b[0;34m\u001b[0m\u001b[0;34m\u001b[0m\u001b[0m\n\u001b[1;32m    650\u001b[0m         )\n",
            "\u001b[0;32m/usr/local/lib/python3.10/dist-packages/sklearn/base.py\u001b[0m in \u001b[0;36m_validate_data\u001b[0;34m(self, X, y, reset, validate_separately, **check_params)\u001b[0m\n\u001b[1;32m    582\u001b[0m                 \u001b[0my\u001b[0m \u001b[0;34m=\u001b[0m \u001b[0mcheck_array\u001b[0m\u001b[0;34m(\u001b[0m\u001b[0my\u001b[0m\u001b[0;34m,\u001b[0m \u001b[0minput_name\u001b[0m\u001b[0;34m=\u001b[0m\u001b[0;34m\"y\"\u001b[0m\u001b[0;34m,\u001b[0m \u001b[0;34m**\u001b[0m\u001b[0mcheck_y_params\u001b[0m\u001b[0;34m)\u001b[0m\u001b[0;34m\u001b[0m\u001b[0;34m\u001b[0m\u001b[0m\n\u001b[1;32m    583\u001b[0m             \u001b[0;32melse\u001b[0m\u001b[0;34m:\u001b[0m\u001b[0;34m\u001b[0m\u001b[0;34m\u001b[0m\u001b[0m\n\u001b[0;32m--> 584\u001b[0;31m                 \u001b[0mX\u001b[0m\u001b[0;34m,\u001b[0m \u001b[0my\u001b[0m \u001b[0;34m=\u001b[0m \u001b[0mcheck_X_y\u001b[0m\u001b[0;34m(\u001b[0m\u001b[0mX\u001b[0m\u001b[0;34m,\u001b[0m \u001b[0my\u001b[0m\u001b[0;34m,\u001b[0m \u001b[0;34m**\u001b[0m\u001b[0mcheck_params\u001b[0m\u001b[0;34m)\u001b[0m\u001b[0;34m\u001b[0m\u001b[0;34m\u001b[0m\u001b[0m\n\u001b[0m\u001b[1;32m    585\u001b[0m             \u001b[0mout\u001b[0m \u001b[0;34m=\u001b[0m \u001b[0mX\u001b[0m\u001b[0;34m,\u001b[0m \u001b[0my\u001b[0m\u001b[0;34m\u001b[0m\u001b[0;34m\u001b[0m\u001b[0m\n\u001b[1;32m    586\u001b[0m \u001b[0;34m\u001b[0m\u001b[0m\n",
            "\u001b[0;32m/usr/local/lib/python3.10/dist-packages/sklearn/utils/validation.py\u001b[0m in \u001b[0;36mcheck_X_y\u001b[0;34m(X, y, accept_sparse, accept_large_sparse, dtype, order, copy, force_all_finite, ensure_2d, allow_nd, multi_output, ensure_min_samples, ensure_min_features, y_numeric, estimator)\u001b[0m\n\u001b[1;32m   1104\u001b[0m         )\n\u001b[1;32m   1105\u001b[0m \u001b[0;34m\u001b[0m\u001b[0m\n\u001b[0;32m-> 1106\u001b[0;31m     X = check_array(\n\u001b[0m\u001b[1;32m   1107\u001b[0m         \u001b[0mX\u001b[0m\u001b[0;34m,\u001b[0m\u001b[0;34m\u001b[0m\u001b[0;34m\u001b[0m\u001b[0m\n\u001b[1;32m   1108\u001b[0m         \u001b[0maccept_sparse\u001b[0m\u001b[0;34m=\u001b[0m\u001b[0maccept_sparse\u001b[0m\u001b[0;34m,\u001b[0m\u001b[0;34m\u001b[0m\u001b[0;34m\u001b[0m\u001b[0m\n",
            "\u001b[0;32m/usr/local/lib/python3.10/dist-packages/sklearn/utils/validation.py\u001b[0m in \u001b[0;36mcheck_array\u001b[0;34m(array, accept_sparse, accept_large_sparse, dtype, order, copy, force_all_finite, ensure_2d, allow_nd, ensure_min_samples, ensure_min_features, estimator, input_name)\u001b[0m\n\u001b[1;32m    900\u001b[0m             \u001b[0;31m# If input is 1D raise error\u001b[0m\u001b[0;34m\u001b[0m\u001b[0;34m\u001b[0m\u001b[0m\n\u001b[1;32m    901\u001b[0m             \u001b[0;32mif\u001b[0m \u001b[0marray\u001b[0m\u001b[0;34m.\u001b[0m\u001b[0mndim\u001b[0m \u001b[0;34m==\u001b[0m \u001b[0;36m1\u001b[0m\u001b[0;34m:\u001b[0m\u001b[0;34m\u001b[0m\u001b[0;34m\u001b[0m\u001b[0m\n\u001b[0;32m--> 902\u001b[0;31m                 raise ValueError(\n\u001b[0m\u001b[1;32m    903\u001b[0m                     \u001b[0;34m\"Expected 2D array, got 1D array instead:\\narray={}.\\n\"\u001b[0m\u001b[0;34m\u001b[0m\u001b[0;34m\u001b[0m\u001b[0m\n\u001b[1;32m    904\u001b[0m                     \u001b[0;34m\"Reshape your data either using array.reshape(-1, 1) if \"\u001b[0m\u001b[0;34m\u001b[0m\u001b[0;34m\u001b[0m\u001b[0m\n",
            "\u001b[0;31mValueError\u001b[0m: Expected 2D array, got 1D array instead:\narray=[ 3.  0. -1. nan  1. nan nan nan nan  1. nan  0. nan nan nan nan  0.  1.\n  0.  2.  0.  2.  0. nan nan nan  0. -1. nan  0. nan nan nan nan  3. nan\n  0. nan  1. nan  2. nan nan  1. nan  2.  0. nan  0. -1. nan nan  3.  1.\n  0. nan nan nan nan nan nan  1. nan nan  1. nan  1. nan nan  2.  0.  1.\n nan nan  1. nan nan nan  0.  0. nan  1. nan  1. nan nan -1. -1. nan nan\n  1. nan nan  0.  0. nan nan -2. nan nan nan nan  3. nan  1.  3. nan  2.\n nan  2.  0. nan nan  2. nan  2.  0. nan  0.  2.  1.  3. nan  3. nan nan\n nan nan nan  3. -1. nan  0.  2. nan -1.  0.  2. nan  2.  1.  0.  2. nan\n nan  1. nan nan  1. -1. nan nan  0. nan  2. nan nan nan nan  3.  1.  1.\n  1. nan  0. nan  3. -1.  0. nan  1.  0.  2.  0.  0. nan  1. nan  0.  1.\n  2.  2. nan nan nan  0.  2. nan -1. nan nan nan  1. nan  0. nan -1. nan\n nan nan nan  1. nan -1.  2.  0. nan nan nan nan  1. nan -2.  0. -2.  3.\n  0. nan  1. nan nan nan nan  3.  3. nan  0.  0. nan  3.  1.  1.  0.  1.\n nan  0.  3. nan nan  1. nan nan nan  0. nan  0. nan  1.  3. nan  1. nan\n nan  3.  2.  1.  1.  3. nan nan nan  0. nan  1.  0. nan -1. nan nan nan\n nan nan -1. nan nan  0. nan  1. nan  2.  1.  0.  2. nan nan nan nan  2.\n  2. nan  0.  0. nan nan nan -1. nan nan nan  1.  0. nan  0. nan nan nan\n nan nan  0.  0.  1. nan -1.  0.  1. nan  1. nan nan  0.  0.  3. nan  2.\n  0.  1.  1. nan].\nReshape your data either using array.reshape(-1, 1) if your data has a single feature or array.reshape(1, -1) if it contains a single sample."
          ]
        }
      ]
    },
    {
      "cell_type": "code",
      "source": [
        "svm = svm.SVR()\n",
        "model = svm.fit(x_train, y_train)\n",
        "model.score(x_test, y_test)"
      ],
      "metadata": {
        "id": "01OacRp7q8zU"
      },
      "execution_count": null,
      "outputs": []
    },
    {
      "cell_type": "code",
      "source": [
        "plt.scatter(y_test, y_lr_test_pred, alpha=0.3)\n",
        "plt.xlabel('Truth Values')\n",
        "plt.ylabel('Predictions')\n",
        "plt.plot()"
      ],
      "metadata": {
        "id": "t8c9nNFEji__"
      },
      "execution_count": null,
      "outputs": []
    }
  ]
}